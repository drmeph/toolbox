{
 "cells": [
  {
   "cell_type": "markdown",
   "id": "f598b4b7",
   "metadata": {},
   "source": [
    "# Random Email Generator"
   ]
  },
  {
   "cell_type": "code",
   "execution_count": 10,
   "id": "4877c331",
   "metadata": {},
   "outputs": [],
   "source": [
    "import string\n",
    "import random"
   ]
  },
  {
   "cell_type": "code",
   "execution_count": 11,
   "id": "c7df3172",
   "metadata": {},
   "outputs": [
    {
     "name": "stdout",
     "output_type": "stream",
     "text": [
      "kevin.dorfer@dealmaker.tech\n"
     ]
    }
   ],
   "source": [
    "email = input()"
   ]
  },
  {
   "cell_type": "code",
   "execution_count": 12,
   "id": "e911b715",
   "metadata": {},
   "outputs": [
    {
     "name": "stdout",
     "output_type": "stream",
     "text": [
      "kevin.dorfer+MsBnZbepBz@dealmaker.tech\n"
     ]
    }
   ],
   "source": [
    "[name, domain] = email.split(\"@\")\n",
    "\n",
    "letters = string.ascii_letters\n",
    "letters = ''.join(random.choice(letters) for i in range(10))\n",
    "\n",
    "emailRandom = f\"{name}+{letters}@{domain}\"\n",
    "print (emailRandom)"
   ]
  },
  {
   "cell_type": "code",
   "execution_count": null,
   "id": "03fb7f89",
   "metadata": {},
   "outputs": [],
   "source": []
  }
 ],
 "metadata": {
  "kernelspec": {
   "display_name": "Python 3 (ipykernel)",
   "language": "python",
   "name": "python3"
  },
  "language_info": {
   "codemirror_mode": {
    "name": "ipython",
    "version": 3
   },
   "file_extension": ".py",
   "mimetype": "text/x-python",
   "name": "python",
   "nbconvert_exporter": "python",
   "pygments_lexer": "ipython3",
   "version": "3.9.12"
  }
 },
 "nbformat": 4,
 "nbformat_minor": 5
}
