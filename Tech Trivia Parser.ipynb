{
 "cells": [
  {
   "cell_type": "markdown",
   "id": "ae9e7b84",
   "metadata": {},
   "source": [
    "# Loading Libraries"
   ]
  },
  {
   "cell_type": "code",
   "execution_count": 362,
   "id": "2c4ddde8",
   "metadata": {},
   "outputs": [],
   "source": [
    "import pandas as pd\n",
    "import os\n",
    "import datetime as dt\n",
    "from matplotlib import pyplot as plt\n",
    "import numpy as np\n",
    "import matplotlib"
   ]
  },
  {
   "cell_type": "markdown",
   "id": "f06eae55",
   "metadata": {},
   "source": [
    "# Define functions"
   ]
  },
  {
   "cell_type": "code",
   "execution_count": 379,
   "id": "c34ba445",
   "metadata": {},
   "outputs": [],
   "source": [
    "categories = [\"API\", \"Comms\", \"DevOps\", \"Engage\", \"Investor\", \"Issuer\", \"Payments\", \"No\"]"
   ]
  },
  {
   "cell_type": "code",
   "execution_count": 373,
   "id": "26dfabf2",
   "metadata": {},
   "outputs": [],
   "source": [
    "def plot_pod(pod_name, dataset):\n",
    "    plt.figure().clear()\n",
    "    plt.close()\n",
    "    plt.cla()\n",
    "    plt.clf()\n",
    "    \n",
    "    df = dataset[dataset['Team'] == pod_name]\n",
    "    header = ['api', 'comms', 'devops', 'engage', 'investor', 'issuer', 'payments']\n",
    "    labels = df[\"Participant Name\"].unique().tolist()\n",
    "\n",
    "    api = df[df[\"Category\"] == \"API\"]['Answered Correct'].tolist()\n",
    "    comms = df[df[\"Category\"] == \"Comms\"]['Answered Correct'].tolist()\n",
    "    devops = df[df[\"Category\"] == \"DevOps\"]['Answered Correct'].tolist()\n",
    "    engage = df[df[\"Category\"] == \"Engage\"]['Answered Correct'].tolist()\n",
    "    investor = df[df[\"Category\"] == \"Investor\"]['Answered Correct'].tolist()\n",
    "    issuer = df[df[\"Category\"] == \"Issuer\"]['Answered Correct'].tolist()\n",
    "    payments = df[df[\"Category\"] == \"Payments\"]['Answered Correct'].tolist()\n",
    "    \n",
    "    output = 'Correct Answers'\n",
    "    X_AXIS = labels\n",
    "    \n",
    "    matplotlib.rc('font', serif='Helvetica Neue')\n",
    "    matplotlib.rc('text', usetex='false')\n",
    "    matplotlib.rcParams.update({'font.size': 40})\n",
    "    \n",
    "    fig = matplotlib.pyplot.gcf()\n",
    "    fig.set_size_inches(18.5, 10.5)\n",
    "    \n",
    "    configs = labels\n",
    "    N = len(configs)\n",
    "    ind = np.arange(N)\n",
    "    width = 0.4\n",
    "    buttom = api\n",
    "    \n",
    "    p1 = plt.bar(ind, api, width, color='r')\n",
    "    p2 = plt.bar(ind, comms, width, bottom=buttom, color='b')\n",
    "    buttom += np.array(comms)\n",
    "    p3 = plt.bar(ind, devops, width, bottom=buttom, color='g')\n",
    "    buttom += np.array(devops)\n",
    "    p4 = plt.bar(ind, engage, width, bottom=buttom, color='c')\n",
    "    buttom += np.array(engage)\n",
    "    p5 = plt.bar(ind, investor, width, bottom=buttom, color='orange')\n",
    "    buttom += np.array(investor)\n",
    "    p6 = plt.bar(ind, issuer, width, bottom=buttom, color='black')\n",
    "    buttom += np.array(issuer)\n",
    "    p7 = plt.bar(ind, payments, width, bottom=buttom, color='teal')\n",
    "    \n",
    "    plt.ylim([0,35])\n",
    "    plt.yticks(fontsize=12)\n",
    "    plt.ylabel(output, fontsize=12)\n",
    "    plt.title(f\"{pod_name} Results\")\n",
    "    plt.xticks(ind, X_AXIS, fontsize=12, rotation=90)\n",
    "    plt.xlabel('Participants', fontsize=12)\n",
    "    plt.legend((p1[0], p2[0], p3[0], p4[0], p5[0], p6[0], p7[0]), (header[0], header[1], header[2], header[3], header[4], header[5], header[6]), fontsize=12, ncol=4, framealpha=0, fancybox=True)\n",
    "    \n",
    "    return plt"
   ]
  },
  {
   "cell_type": "code",
   "execution_count": 374,
   "id": "ef31b785",
   "metadata": {},
   "outputs": [],
   "source": [
    "def load_data(filename, category):\n",
    "    df = pd.read_csv(f\"{path}/{filename}\")\n",
    "    df = df.drop(columns=['Participant ID', 'Joined (GMT)', 'Rank'])\n",
    "    df['Category'] = category\n",
    "    df = df.sort_values(by=['Team'])\n",
    "    return df"
   ]
  },
  {
   "cell_type": "markdown",
   "id": "42a4f90d",
   "metadata": {},
   "source": [
    "# Loading Data"
   ]
  },
  {
   "cell_type": "code",
   "execution_count": 375,
   "id": "0d127b34",
   "metadata": {},
   "outputs": [
    {
     "data": {
      "text/plain": [
       "['MultiGamePlayerRankingsExport_09302022_12-29PM.csv',\n",
       " '.DS_Store',\n",
       " 'dealmaker-tech-trivia-results-30-09-2022.csv',\n",
       " 'Engage-30-09-2022.png',\n",
       " 'Issuer-30-09-2022.png',\n",
       " 'Payments_PlayerRankingsExport_09302022_12-32PM.csv',\n",
       " 'Payments-30-09-2022.png',\n",
       " 'Investor_PlayerRankingsExport_09302022_12-31PM.csv',\n",
       " 'API-30-09-2022.png',\n",
       " 'TeamRankingsExport_09302022_12-19PM.csv',\n",
       " 'DevOps_PlayerRankingsExport_09302022_12-29PM.csv',\n",
       " 'Issuer_PlayerRankingsExport_09302022_12-31PM (1).csv',\n",
       " 'API_PlayerRankingsExport_09302022_12-20PM.csv',\n",
       " 'Comms_PlayerRankingsExport_09302022_12-27PM.csv',\n",
       " 'Comms-30-09-2022.png',\n",
       " 'Engage_PlayerRankingsExport_09302022_12-30PM.csv',\n",
       " 'DevOps-30-09-2022.png',\n",
       " 'Investor-30-09-2022.png']"
      ]
     },
     "execution_count": 375,
     "metadata": {},
     "output_type": "execute_result"
    }
   ],
   "source": [
    "path = \"/Users/kevindorfer/Documents/Tech Trivia\"\n",
    "os.listdir(path)"
   ]
  },
  {
   "cell_type": "code",
   "execution_count": 376,
   "id": "2001f744",
   "metadata": {},
   "outputs": [],
   "source": [
    "api_category = load_data(\"API_PlayerRankingsExport_09302022_12-20PM.csv\", \"API\")\n",
    "comms_category = load_data(\"Comms_PlayerRankingsExport_09302022_12-27PM.csv\", \"Comms\")\n",
    "devops_category = load_data(\"DevOps_PlayerRankingsExport_09302022_12-29PM.csv\", \"DevOps\")\n",
    "engage_category = load_data(\"Engage_PlayerRankingsExport_09302022_12-30PM.csv\", \"Engage\")\n",
    "investor_category = load_data(\"Investor_PlayerRankingsExport_09302022_12-31PM.csv\", \"Investor\")\n",
    "issuer_category = load_data(\"Issuer_PlayerRankingsExport_09302022_12-31PM (1).csv\", \"Issuer\")\n",
    "payments_category = load_data(\"Payments_PlayerRankingsExport_09302022_12-32PM.csv\", \"Payments\")"
   ]
  },
  {
   "cell_type": "code",
   "execution_count": 377,
   "id": "3ed9530f",
   "metadata": {},
   "outputs": [],
   "source": [
    "results = pd.concat([api_category, comms_category, devops_category, engage_category, investor_category, issuer_category, payments_category])\n",
    "results.reset_index(drop=True, inplace=True)\n",
    "sorted_results = results.sort_values(by=['Team', 'Category', 'Participant Name'])\n",
    "curr_date = pd.to_datetime('today').date().strftime(\"%d-%m-%Y\")\n",
    "sorted_results['Date'] = curr_date\n",
    "col_list = ['Date', 'Team', 'Category', 'Participant Name', 'Email', 'Points', 'Percent Correct', 'Total Questions', 'Total Answered', 'Answered Correct']\n",
    "sorted_results = sorted_results[col_list]"
   ]
  },
  {
   "cell_type": "code",
   "execution_count": 371,
   "id": "3389b9b9",
   "metadata": {},
   "outputs": [],
   "source": [
    "sorted_results.to_csv(f\"{path}/dealmaker-tech-trivia-results-{curr_date}.csv\")"
   ]
  },
  {
   "cell_type": "code",
   "execution_count": 380,
   "id": "cf37de02",
   "metadata": {},
   "outputs": [
    {
     "data": {
      "image/png": "[encoded data removed]",
      "text/plain": [
       "<Figure size 1332x756 with 1 Axes>"
      ]
     },
     "metadata": {
      "needs_background": "light"
     },
     "output_type": "display_data"
    }
   ],
   "source": [
    "for cat in categories:\n",
    "    result = plot_pod(f'{cat} Pod', sorted_results)\n",
    "    result.savefig(f'{path}/{cat}-{curr_date}.png')"
   ]
  },
  {
   "cell_type": "code",
   "execution_count": null,
   "id": "199a16a8",
   "metadata": {},
   "outputs": [],
   "source": []
  }
 ],
 "metadata": {
  "kernelspec": {
   "display_name": "Python 3 (ipykernel)",
   "language": "python",
   "name": "python3"
  },
  "language_info": {
   "codemirror_mode": {
    "name": "ipython",
    "version": 3
   },
   "file_extension": ".py",
   "mimetype": "text/x-python",
   "name": "python",
   "nbconvert_exporter": "python",
   "pygments_lexer": "ipython3",
   "version": "3.9.12"
  }
 },
 "nbformat": 4,
 "nbformat_minor": 5
}
